{
 "cells": [
  {
   "metadata": {},
   "cell_type": "markdown",
   "source": "# 使用postgres作为时序数据库",
   "id": "93713aa6830e8c27"
  },
  {
   "metadata": {},
   "cell_type": "markdown",
   "source": "## 先构建一个表",
   "id": "ef51124d2b11e13f"
  },
  {
   "metadata": {},
   "cell_type": "markdown",
   "source": [
    "create table monitor (\n",
    "    time timestamp,\n",
    "    tags_id integer,\n",
    "    server_ip varchar(15),\n",
    "    cpu integer,\n",
    "    memory integer\n",
    ");"
   ],
   "id": "19901aa280520d02"
  },
  {
   "metadata": {},
   "cell_type": "markdown",
   "source": "## 插入数据",
   "id": "96127db4afd87e9c"
  },
  {
   "metadata": {},
   "cell_type": "markdown",
   "source": [
    "insert into monitor\n",
    "select\n",
    "    generate_series(now(), now() + '1 year', '1 second') as time,\n",
    "    (random() * (10))::integer as tags_id,\n",
    "    '192.168.1.' || (random() * (100))::integer::varchar as server_ip,\n",
    "    (random() * (10))::integer as cpu,\n",
    "    (random() * (10))::integer as memory;"
   ],
   "id": "202d06c5e620d549"
  },
  {
   "metadata": {},
   "cell_type": "markdown",
   "source": "## 查看表大小",
   "id": "3f314903e12b5254"
  },
  {
   "metadata": {},
   "cell_type": "markdown",
   "source": "select pg_size_pretty(pg_table_size('monitor'));",
   "id": "de8ecc1b976ee9c"
  },
  {
   "metadata": {},
   "cell_type": "markdown",
   "source": "## 创建一个索引",
   "id": "de5dcc9be9e1dc69"
  },
  {
   "metadata": {},
   "cell_type": "markdown",
   "source": "create index monitor_ip_time_idx on monitor using btree (server_ip, time desc);",
   "id": "363b8d32022d32b0"
  },
  {
   "metadata": {},
   "cell_type": "markdown",
   "source": [
    "select *\n",
    "from monitor\n",
    "where time between '2024-10-19 00:00:00'::timestamp and '2024-10-20 00:00:00'::timestamp\n",
    "and server_ip = '192.168.1.10';"
   ],
   "id": "1a9b6ff1634c9d32"
  },
  {
   "metadata": {},
   "cell_type": "markdown",
   "source": [
    "explain analyse \n",
    "select *\n",
    "from monitor\n",
    "where time between '2024-10-19 00:00:00'::timestamp and '2024-10-20 00:00:00'::timestamp\n",
    "and server_ip = '192.168.1.10';"
   ],
   "id": "d22cb6fd7a1bf272"
  },
  {
   "metadata": {},
   "cell_type": "markdown",
   "source": "## 查看索引大小",
   "id": "5306d492e50c4134"
  },
  {
   "metadata": {},
   "cell_type": "markdown",
   "source": "select pg_size_pretty(pg_relation_size('monitor_ip_time_idx'));",
   "id": "ff9de43a64bce4cd"
  },
  {
   "metadata": {},
   "cell_type": "markdown",
   "source": "创建一个Brin索引",
   "id": "ca8887c551416113"
  },
  {
   "metadata": {},
   "cell_type": "markdown",
   "source": "create index monitor_time__brin_idx on monitor using brin (time);",
   "id": "8c821fffcfe75252"
  },
  {
   "metadata": {},
   "cell_type": "markdown",
   "source": [
    "select *\n",
    "from monitor\n",
    "where time between '2024-10-19 00:00:00'::timestamp and '2024-10-20 00:00:00'::timestamp;"
   ],
   "id": "5b06a5d77c5ea347"
  },
  {
   "metadata": {},
   "cell_type": "markdown",
   "source": [
    "explain analyse\n",
    "select *\n",
    "from monitor\n",
    "where time between '2024-10-19 00:00:00'::timestamp and '2024-10-20 00:00:00'::timestamp;"
   ],
   "id": "d9ddb4ba7ff8734"
  },
  {
   "metadata": {},
   "cell_type": "markdown",
   "source": "## 查看brin索引大小",
   "id": "414001cd77e17b97"
  },
  {
   "metadata": {},
   "cell_type": "markdown",
   "source": "select pg_size_pretty(pg_relation_size('monitor_time__brin_idx'));",
   "id": "1fff559413fc32f"
  },
  {
   "metadata": {},
   "cell_type": "markdown",
   "source": "## 使用分区表来提高大数据下的性能",
   "id": "206b91178a141ccc"
  },
  {
   "metadata": {},
   "cell_type": "markdown",
   "source": [
    "create table monitor2 (\n",
    "    time timestamp,\n",
    "    tags_id integer,\n",
    "    server_ip varchar(15),\n",
    "    cpu integer,\n",
    "    memory integer\n",
    ") partition by range (time);"
   ],
   "id": "6eef50dd18cc8bdb"
  },
  {
   "metadata": {},
   "cell_type": "markdown",
   "source": [
    "create table monitor2_2024_10\n",
    "partition of monitor2\n",
    "for values from ('2024-10-01 00:00:00+00') to ('2024-11-01 00:00:00+00');"
   ],
   "id": "ab4c46efd3aca9dd"
  },
  {
   "metadata": {},
   "cell_type": "markdown",
   "source": [
    "create table monitor2_2024_11\n",
    "partition of monitor2\n",
    "for values from ('2024-11-01 00:00:00+00') to ('2024-12-01 00:00:00+00');"
   ],
   "id": "4b44a2f488a5eb98"
  },
  {
   "metadata": {},
   "cell_type": "markdown",
   "source": "create index monitor2_time__brin_idx on monitor2 using brin (time);",
   "id": "c0fc650a7417dd44"
  },
  {
   "metadata": {},
   "cell_type": "markdown",
   "source": [
    "insert into monitor2\n",
    "select\n",
    "    generate_series(now(), now() + '1 month', '1 second') as time,\n",
    "    (random() * (10))::integer as tags_id,\n",
    "    '192.168.1.' || (random() * (100))::integer::varchar as server_ip,\n",
    "    (random() * (10))::integer as cpu,\n",
    "    (random() * (10))::integer as memory;"
   ],
   "id": "9e1033bfc42ef829"
  },
  {
   "metadata": {},
   "cell_type": "markdown",
   "source": [
    "select *\n",
    "from monitor2\n",
    "where time between '2024-10-19 00:00:00'::timestamp and '2024-10-20 00:00:00'::timestamp;"
   ],
   "id": "369722b9b8225411"
  },
  {
   "metadata": {},
   "cell_type": "markdown",
   "source": [
    "explain analyse \n",
    "select *\n",
    "from monitor2\n",
    "where time between '2024-10-19 00:00:00'::timestamp and '2024-10-20 00:00:00'::timestamp;"
   ],
   "id": "3168e5152efea22f"
  },
  {
   "metadata": {},
   "cell_type": "code",
   "outputs": [],
   "execution_count": null,
   "source": "",
   "id": "4f354e75821716b3"
  }
 ],
 "metadata": {
  "kernelspec": {
   "display_name": "Python 3",
   "language": "python",
   "name": "python3"
  },
  "language_info": {
   "codemirror_mode": {
    "name": "ipython",
    "version": 2
   },
   "file_extension": ".py",
   "mimetype": "text/x-python",
   "name": "python",
   "nbconvert_exporter": "python",
   "pygments_lexer": "ipython2",
   "version": "2.7.6"
  }
 },
 "nbformat": 4,
 "nbformat_minor": 5
}
