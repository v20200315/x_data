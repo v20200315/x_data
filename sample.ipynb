{
 "cells": [
  {
   "cell_type": "code",
   "id": "initial_id",
   "metadata": {
    "collapsed": true,
    "ExecuteTime": {
     "end_time": "2024-10-29T13:21:55.226595Z",
     "start_time": "2024-10-29T13:21:55.220369Z"
    }
   },
   "source": "from datetime import datetime, timedelta",
   "outputs": [],
   "execution_count": 1
  },
  {
   "metadata": {
    "ExecuteTime": {
     "end_time": "2024-10-29T13:22:16.848014Z",
     "start_time": "2024-10-29T13:22:16.843453Z"
    }
   },
   "cell_type": "code",
   "source": [
    "today = datetime.now()\n",
    "date_60_days_ago = today - timedelta(days=60)\n",
    "print(f\"当前日期: {today.strftime('%Y-%m-%d')}\")\n",
    "print(f\"60天前的日期: {date_60_days_ago.strftime('%Y-%m-%d')}\")"
   ],
   "id": "d2cf9cda5f66d41b",
   "outputs": [
    {
     "name": "stdout",
     "output_type": "stream",
     "text": [
      "当前日期: 2024-10-29\n",
      "60天前的日期: 2024-08-30\n"
     ]
    }
   ],
   "execution_count": 2
  },
  {
   "metadata": {
    "ExecuteTime": {
     "end_time": "2024-10-29T13:30:42.853651Z",
     "start_time": "2024-10-29T13:30:42.846359Z"
    }
   },
   "cell_type": "code",
   "source": [
    "def calculate_price_60_days_ago(current_price, change_percentage):\n",
    "    # 计算60天前的收盘价\n",
    "    price_60_days_ago = current_price / (1 + change_percentage / 100)\n",
    "    return price_60_days_ago"
   ],
   "id": "87844230f2252474",
   "outputs": [],
   "execution_count": 3
  },
  {
   "metadata": {
    "ExecuteTime": {
     "end_time": "2024-10-29T13:41:00.099708Z",
     "start_time": "2024-10-29T13:41:00.058563Z"
    }
   },
   "cell_type": "code",
   "source": [
    "current_price = 1531.62  # 今日收盘价\n",
    "change_percentage = 7.69  # 60日涨跌幅"
   ],
   "id": "e0dd794f784a60f5",
   "outputs": [],
   "execution_count": 4
  },
  {
   "metadata": {
    "ExecuteTime": {
     "end_time": "2024-10-29T13:41:01.234489Z",
     "start_time": "2024-10-29T13:41:01.229950Z"
    }
   },
   "cell_type": "code",
   "source": [
    "price_60_days_ago = calculate_price_60_days_ago(current_price, change_percentage)\n",
    "print(f\"60天前的收盘价为: {price_60_days_ago:.2f}元\")"
   ],
   "id": "a2145f588d8524f5",
   "outputs": [
    {
     "name": "stdout",
     "output_type": "stream",
     "text": [
      "60天前的收盘价为: 1422.25元\n"
     ]
    }
   ],
   "execution_count": 5
  },
  {
   "metadata": {},
   "cell_type": "code",
   "outputs": [],
   "execution_count": null,
   "source": "",
   "id": "b7704a84c49cc3ed"
  }
 ],
 "metadata": {
  "kernelspec": {
   "display_name": "Python 3",
   "language": "python",
   "name": "python3"
  },
  "language_info": {
   "codemirror_mode": {
    "name": "ipython",
    "version": 2
   },
   "file_extension": ".py",
   "mimetype": "text/x-python",
   "name": "python",
   "nbconvert_exporter": "python",
   "pygments_lexer": "ipython2",
   "version": "2.7.6"
  }
 },
 "nbformat": 4,
 "nbformat_minor": 5
}
