{
 "cells": [
  {
   "cell_type": "code",
   "id": "initial_id",
   "metadata": {
    "collapsed": true
   },
   "source": "from datetime import datetime, timedelta",
   "outputs": [],
   "execution_count": null
  },
  {
   "metadata": {},
   "cell_type": "code",
   "source": [
    "today = datetime.now()\n",
    "date_60_days_ago = today - timedelta(days=60)\n",
    "print(f\"当前日期: {today.strftime('%Y-%m-%d')}\")\n",
    "print(f\"60天前的日期: {date_60_days_ago.strftime('%Y-%m-%d')}\")"
   ],
   "id": "d2cf9cda5f66d41b",
   "outputs": [],
   "execution_count": null
  },
  {
   "metadata": {},
   "cell_type": "code",
   "source": [
    "def calculate_price_60_days_ago(current_price, change_percentage):\n",
    "    # 计算60天前的收盘价\n",
    "    price_60_days_ago = current_price / (1 + change_percentage / 100)\n",
    "    return price_60_days_ago"
   ],
   "id": "87844230f2252474",
   "outputs": [],
   "execution_count": null
  },
  {
   "metadata": {},
   "cell_type": "code",
   "source": [
    "current_price = 1531.62  # 今日收盘价\n",
    "change_percentage = 7.69  # 60日涨跌幅"
   ],
   "id": "e0dd794f784a60f5",
   "outputs": [],
   "execution_count": null
  },
  {
   "metadata": {},
   "cell_type": "code",
   "source": [
    "price_60_days_ago = calculate_price_60_days_ago(current_price, change_percentage)\n",
    "print(f\"60天前的收盘价为: {price_60_days_ago:.2f}元\")"
   ],
   "id": "a2145f588d8524f5",
   "outputs": [],
   "execution_count": null
  },
  {
   "metadata": {
    "ExecuteTime": {
     "end_time": "2024-10-30T03:25:28.528145Z",
     "start_time": "2024-10-30T03:25:27.763252Z"
    }
   },
   "cell_type": "code",
   "source": [
    "import os\n",
    "import django\n",
    "\n",
    "# 设置Django的环境变量\n",
    "os.environ.setdefault(\"DJANGO_SETTINGS_MODULE\", \"x_data.settings\")\n",
    "django.setup()"
   ],
   "id": "bc4dc06558dea868",
   "outputs": [],
   "execution_count": 1
  },
  {
   "metadata": {
    "ExecuteTime": {
     "end_time": "2024-10-30T03:26:01.361962Z",
     "start_time": "2024-10-30T03:26:01.358959Z"
    }
   },
   "cell_type": "code",
   "source": "from django.core.cache import cache",
   "id": "1bd7cebc0fb6e52b",
   "outputs": [],
   "execution_count": 2
  },
  {
   "metadata": {
    "ExecuteTime": {
     "end_time": "2024-10-30T03:26:15.868669Z",
     "start_time": "2024-10-30T03:26:15.865409Z"
    }
   },
   "cell_type": "code",
   "source": "import pickle",
   "id": "f8ffc45619ebcf2",
   "outputs": [],
   "execution_count": 3
  },
  {
   "metadata": {
    "ExecuteTime": {
     "end_time": "2024-10-30T03:26:34.333091Z",
     "start_time": "2024-10-30T03:26:32.074078Z"
    }
   },
   "cell_type": "code",
   "source": "dataset = pickle.loads(cache.get(\"2023_stock_history\"))",
   "id": "5c016abaa1cde53f",
   "outputs": [],
   "execution_count": 4
  },
  {
   "metadata": {
    "ExecuteTime": {
     "end_time": "2024-10-30T03:26:35.198047Z",
     "start_time": "2024-10-30T03:26:35.194872Z"
    }
   },
   "cell_type": "code",
   "source": "print(type(dataset))",
   "id": "c7ff72e852bc1d3e",
   "outputs": [
    {
     "name": "stdout",
     "output_type": "stream",
     "text": [
      "<class 'pandas.core.frame.DataFrame'>\n"
     ]
    }
   ],
   "execution_count": 5
  },
  {
   "metadata": {
    "ExecuteTime": {
     "end_time": "2024-10-30T03:27:44.842760Z",
     "start_time": "2024-10-30T03:27:44.839581Z"
    }
   },
   "cell_type": "code",
   "source": "import pandas as pd",
   "id": "1442d859c1dc2229",
   "outputs": [],
   "execution_count": 7
  },
  {
   "metadata": {
    "ExecuteTime": {
     "end_time": "2024-10-30T04:15:51.414546Z",
     "start_time": "2024-10-30T04:15:50.634714Z"
    }
   },
   "cell_type": "code",
   "source": [
    "# 给定日期\n",
    "given_date = '2023-07-03'\n",
    "\n",
    "# 将trading_date列转换为datetime类型\n",
    "dataset['trading_date'] = pd.to_datetime(dataset['trading_date'])\n",
    "\n",
    "# 筛选出在给定日期之前的记录\n",
    "# df_filtered = dataset[dataset['trading_date'] <= given_date]\n",
    "df_filtered = dataset[(dataset['trading_date'] < given_date) | (dataset['trading_date'] == given_date)]\n",
    "\n",
    "# 确保每只股票在给定日期之前有记录\n",
    "valid_stocks = df_filtered.groupby('stock_code').filter(lambda x: len(x) > 0)['stock_code'].unique()"
   ],
   "id": "47fb12df9105bd04",
   "outputs": [],
   "execution_count": 33
  },
  {
   "metadata": {
    "ExecuteTime": {
     "end_time": "2024-10-30T04:19:02.397696Z",
     "start_time": "2024-10-30T04:19:01.059907Z"
    }
   },
   "cell_type": "code",
   "source": [
    "def calculate_return(stock_data):\n",
    "    if len(stock_data) < 10:\n",
    "        return None\n",
    "    # 获取10日之前的收盘价\n",
    "    closing_price_10_days_ago = stock_data['closing_price'].iloc[-10]\n",
    "    # 当前收盘价\n",
    "    current_closing_price = stock_data['closing_price'].iloc[-1]\n",
    "    # 当前日期\n",
    "    current_date = stock_data['trading_date'].iloc[-1]\n",
    "    # 10天前的日期\n",
    "    date_10_days_ago = stock_data['trading_date'].iloc[-10]\n",
    "    # 计算涨跌幅\n",
    "    return round((current_closing_price - closing_price_10_days_ago) / closing_price_10_days_ago * 100, 2), current_date, current_closing_price, date_10_days_ago, closing_price_10_days_ago\n",
    "\n",
    "# 对每个有效的股票代码进行计算\n",
    "result = df_filtered[df_filtered['stock_code'].isin(valid_stocks)].groupby('stock_code').apply(calculate_return).reset_index()\n",
    "\n",
    "# 检查返回的列数并展开元组\n",
    "if result.shape[1] == 2:  # 确保有2列（股票代码和返回值）\n",
    "    result[['10_day_return', 'current_date', 'current_closing_price', 'date_10_days_ago', 'closing_price_10_days_ago']] = pd.DataFrame(result[0].tolist(), index=result.index)\n",
    "    result = result.drop(columns=0)  # 删除原来的返回值列\n",
    "\n",
    "# 删除缺失值\n",
    "result = result.dropna()\n",
    "\n",
    "# 按照涨跌幅从高到低排序，涨跌幅相同情况下按照股票代码正序排序\n",
    "result = result.sort_values(by=['10_day_return', 'stock_code'], ascending=[False, True])\n",
    "\n",
    "# 取前100条记录\n",
    "result_top_100 = result.head(100)\n",
    "\n",
    "# 输出结果\n",
    "print(result_top_100)"
   ],
   "id": "7ae73002ebc4019c",
   "outputs": [
    {
     "name": "stdout",
     "output_type": "stream",
     "text": [
      "     stock_code  10_day_return current_date  current_closing_price  \\\n",
      "5235     872931         124.37   2023-06-08                   8.01   \n",
      "4267     603767          80.95   2023-07-03                  14.82   \n",
      "2004     300503          67.34   2023-07-03                  19.93   \n",
      "4968     688599          66.43   2023-01-11                  68.90   \n",
      "3872     603042          65.86   2023-07-03                  22.64   \n",
      "...         ...            ...          ...                    ...   \n",
      "874      002356          18.52   2023-07-03                   4.80   \n",
      "2510     301031          18.52   2023-07-03                 140.80   \n",
      "2177     300680          18.48   2023-07-03                  22.50   \n",
      "2700     301263          18.46   2023-07-03                  22.59   \n",
      "602      002079          18.40   2023-07-03                  14.35   \n",
      "\n",
      "     date_10_days_ago  closing_price_10_days_ago  \n",
      "5235       2023-02-24                       3.57  \n",
      "4267       2023-06-16                       8.19  \n",
      "2004       2023-06-16                      11.91  \n",
      "4968       2023-06-29                      41.40  \n",
      "3872       2023-06-14                      13.65  \n",
      "...               ...                        ...  \n",
      "874        2023-06-16                       4.05  \n",
      "2510       2023-06-16                     118.80  \n",
      "2177       2023-06-16                      18.99  \n",
      "2700       2023-06-16                      19.07  \n",
      "602        2023-06-16                      12.12  \n",
      "\n",
      "[100 rows x 6 columns]\n"
     ]
    },
    {
     "name": "stderr",
     "output_type": "stream",
     "text": [
      "/var/folders/1c/t08y_l4d6j7g6lrplpp5k55m0000gn/T/ipykernel_53006/1648219285.py:16: DeprecationWarning: DataFrameGroupBy.apply operated on the grouping columns. This behavior is deprecated, and in a future version of pandas the grouping columns will be excluded from the operation. Either pass `include_groups=False` to exclude the groupings or explicitly select the grouping columns after groupby to silence this warning.\n",
      "  result = df_filtered[df_filtered['stock_code'].isin(valid_stocks)].groupby('stock_code').apply(calculate_return).reset_index()\n"
     ]
    }
   ],
   "execution_count": 35
  },
  {
   "metadata": {
    "ExecuteTime": {
     "end_time": "2024-10-30T03:59:21.925462Z",
     "start_time": "2024-10-30T03:59:20.675896Z"
    }
   },
   "cell_type": "code",
   "source": [
    "# 计算60日涨跌幅\n",
    "def calculate_return(stock_data):\n",
    "    if len(stock_data) < 10:\n",
    "        return None\n",
    "    # 获取x日之前的收盘价\n",
    "    closing_price_x_days_ago = stock_data['closing_price'].iloc[-10]\n",
    "    # 当前收盘价\n",
    "    current_closing_price = stock_data['closing_price'].iloc[-1]\n",
    "    # 当前日期\n",
    "    current_date = stock_data['trading_date'].iloc[-1]\n",
    "    # x天前的日期\n",
    "    date_x_days_ago = stock_data['trading_date'].iloc[-10]\n",
    "    # 计算涨跌幅\n",
    "    return round((current_closing_price - closing_price_x_days_ago) / closing_price_x_days_ago * 100,\n",
    "                 2), current_date, current_closing_price, date_x_days_ago, closing_price_x_days_ago\n",
    "\n",
    "\n",
    "# 对每个股票代码进行计算\n",
    "result = df_filtered.groupby('stock_code').apply(calculate_return, include_groups=False).reset_index()\n",
    "result.columns = ['stock_code', 'x_day_return', 'current_date', 'current_closing_price', 'date_x_days_ago',\n",
    "                  'closing_price_x_days_ago']\n",
    "\n",
    "# 删除缺失值\n",
    "result = result.dropna()\n",
    "\n",
    "# 按照涨跌幅从高到低排序，涨跌幅相同情况下按照股票代码正序排序\n",
    "result = result.sort_values(by=['x_day_return', 'stock_code'], ascending=[False, True])\n",
    "\n",
    "# 输出结果\n",
    "result_top_100 = result.head(100)\n",
    "print(result_top_100)\n",
    "print(\"=\" * 10)\n",
    "result_last_100 = result.tail(100)\n",
    "print(result_last_100)"
   ],
   "id": "e913ef50c6be9952",
   "outputs": [
    {
     "ename": "ValueError",
     "evalue": "Length mismatch: Expected axis has 2 elements, new values have 6 elements",
     "output_type": "error",
     "traceback": [
      "\u001B[0;31m---------------------------------------------------------------------------\u001B[0m",
      "\u001B[0;31mValueError\u001B[0m                                Traceback (most recent call last)",
      "Cell \u001B[0;32mIn[21], line 20\u001B[0m\n\u001B[1;32m     18\u001B[0m \u001B[38;5;66;03m# 对每个股票代码进行计算\u001B[39;00m\n\u001B[1;32m     19\u001B[0m result \u001B[38;5;241m=\u001B[39m df_filtered\u001B[38;5;241m.\u001B[39mgroupby(\u001B[38;5;124m'\u001B[39m\u001B[38;5;124mstock_code\u001B[39m\u001B[38;5;124m'\u001B[39m)\u001B[38;5;241m.\u001B[39mapply(calculate_return, include_groups\u001B[38;5;241m=\u001B[39m\u001B[38;5;28;01mFalse\u001B[39;00m)\u001B[38;5;241m.\u001B[39mreset_index()\n\u001B[0;32m---> 20\u001B[0m \u001B[43mresult\u001B[49m\u001B[38;5;241;43m.\u001B[39;49m\u001B[43mcolumns\u001B[49m \u001B[38;5;241m=\u001B[39m [\u001B[38;5;124m'\u001B[39m\u001B[38;5;124mstock_code\u001B[39m\u001B[38;5;124m'\u001B[39m, \u001B[38;5;124m'\u001B[39m\u001B[38;5;124mx_day_return\u001B[39m\u001B[38;5;124m'\u001B[39m, \u001B[38;5;124m'\u001B[39m\u001B[38;5;124mcurrent_date\u001B[39m\u001B[38;5;124m'\u001B[39m, \u001B[38;5;124m'\u001B[39m\u001B[38;5;124mcurrent_closing_price\u001B[39m\u001B[38;5;124m'\u001B[39m, \u001B[38;5;124m'\u001B[39m\u001B[38;5;124mdate_x_days_ago\u001B[39m\u001B[38;5;124m'\u001B[39m,\n\u001B[1;32m     21\u001B[0m                   \u001B[38;5;124m'\u001B[39m\u001B[38;5;124mclosing_price_x_days_ago\u001B[39m\u001B[38;5;124m'\u001B[39m]\n\u001B[1;32m     23\u001B[0m \u001B[38;5;66;03m# 删除缺失值\u001B[39;00m\n\u001B[1;32m     24\u001B[0m result \u001B[38;5;241m=\u001B[39m result\u001B[38;5;241m.\u001B[39mdropna()\n",
      "File \u001B[0;32m~/myfolder/workspace-py/x_data/.venv/lib/python3.12/site-packages/pandas/core/generic.py:6313\u001B[0m, in \u001B[0;36mNDFrame.__setattr__\u001B[0;34m(self, name, value)\u001B[0m\n\u001B[1;32m   6311\u001B[0m \u001B[38;5;28;01mtry\u001B[39;00m:\n\u001B[1;32m   6312\u001B[0m     \u001B[38;5;28mobject\u001B[39m\u001B[38;5;241m.\u001B[39m\u001B[38;5;21m__getattribute__\u001B[39m(\u001B[38;5;28mself\u001B[39m, name)\n\u001B[0;32m-> 6313\u001B[0m     \u001B[38;5;28;01mreturn\u001B[39;00m \u001B[38;5;28;43mobject\u001B[39;49m\u001B[38;5;241;43m.\u001B[39;49m\u001B[38;5;21;43m__setattr__\u001B[39;49m\u001B[43m(\u001B[49m\u001B[38;5;28;43mself\u001B[39;49m\u001B[43m,\u001B[49m\u001B[43m \u001B[49m\u001B[43mname\u001B[49m\u001B[43m,\u001B[49m\u001B[43m \u001B[49m\u001B[43mvalue\u001B[49m\u001B[43m)\u001B[49m\n\u001B[1;32m   6314\u001B[0m \u001B[38;5;28;01mexcept\u001B[39;00m \u001B[38;5;167;01mAttributeError\u001B[39;00m:\n\u001B[1;32m   6315\u001B[0m     \u001B[38;5;28;01mpass\u001B[39;00m\n",
      "File \u001B[0;32mproperties.pyx:69\u001B[0m, in \u001B[0;36mpandas._libs.properties.AxisProperty.__set__\u001B[0;34m()\u001B[0m\n",
      "File \u001B[0;32m~/myfolder/workspace-py/x_data/.venv/lib/python3.12/site-packages/pandas/core/generic.py:814\u001B[0m, in \u001B[0;36mNDFrame._set_axis\u001B[0;34m(self, axis, labels)\u001B[0m\n\u001B[1;32m    809\u001B[0m \u001B[38;5;250m\u001B[39m\u001B[38;5;124;03m\"\"\"\u001B[39;00m\n\u001B[1;32m    810\u001B[0m \u001B[38;5;124;03mThis is called from the cython code when we set the `index` attribute\u001B[39;00m\n\u001B[1;32m    811\u001B[0m \u001B[38;5;124;03mdirectly, e.g. `series.index = [1, 2, 3]`.\u001B[39;00m\n\u001B[1;32m    812\u001B[0m \u001B[38;5;124;03m\"\"\"\u001B[39;00m\n\u001B[1;32m    813\u001B[0m labels \u001B[38;5;241m=\u001B[39m ensure_index(labels)\n\u001B[0;32m--> 814\u001B[0m \u001B[38;5;28;43mself\u001B[39;49m\u001B[38;5;241;43m.\u001B[39;49m\u001B[43m_mgr\u001B[49m\u001B[38;5;241;43m.\u001B[39;49m\u001B[43mset_axis\u001B[49m\u001B[43m(\u001B[49m\u001B[43maxis\u001B[49m\u001B[43m,\u001B[49m\u001B[43m \u001B[49m\u001B[43mlabels\u001B[49m\u001B[43m)\u001B[49m\n\u001B[1;32m    815\u001B[0m \u001B[38;5;28mself\u001B[39m\u001B[38;5;241m.\u001B[39m_clear_item_cache()\n",
      "File \u001B[0;32m~/myfolder/workspace-py/x_data/.venv/lib/python3.12/site-packages/pandas/core/internals/managers.py:238\u001B[0m, in \u001B[0;36mBaseBlockManager.set_axis\u001B[0;34m(self, axis, new_labels)\u001B[0m\n\u001B[1;32m    236\u001B[0m \u001B[38;5;28;01mdef\u001B[39;00m \u001B[38;5;21mset_axis\u001B[39m(\u001B[38;5;28mself\u001B[39m, axis: AxisInt, new_labels: Index) \u001B[38;5;241m-\u001B[39m\u001B[38;5;241m>\u001B[39m \u001B[38;5;28;01mNone\u001B[39;00m:\n\u001B[1;32m    237\u001B[0m     \u001B[38;5;66;03m# Caller is responsible for ensuring we have an Index object.\u001B[39;00m\n\u001B[0;32m--> 238\u001B[0m     \u001B[38;5;28;43mself\u001B[39;49m\u001B[38;5;241;43m.\u001B[39;49m\u001B[43m_validate_set_axis\u001B[49m\u001B[43m(\u001B[49m\u001B[43maxis\u001B[49m\u001B[43m,\u001B[49m\u001B[43m \u001B[49m\u001B[43mnew_labels\u001B[49m\u001B[43m)\u001B[49m\n\u001B[1;32m    239\u001B[0m     \u001B[38;5;28mself\u001B[39m\u001B[38;5;241m.\u001B[39maxes[axis] \u001B[38;5;241m=\u001B[39m new_labels\n",
      "File \u001B[0;32m~/myfolder/workspace-py/x_data/.venv/lib/python3.12/site-packages/pandas/core/internals/base.py:98\u001B[0m, in \u001B[0;36mDataManager._validate_set_axis\u001B[0;34m(self, axis, new_labels)\u001B[0m\n\u001B[1;32m     95\u001B[0m     \u001B[38;5;28;01mpass\u001B[39;00m\n\u001B[1;32m     97\u001B[0m \u001B[38;5;28;01melif\u001B[39;00m new_len \u001B[38;5;241m!=\u001B[39m old_len:\n\u001B[0;32m---> 98\u001B[0m     \u001B[38;5;28;01mraise\u001B[39;00m \u001B[38;5;167;01mValueError\u001B[39;00m(\n\u001B[1;32m     99\u001B[0m         \u001B[38;5;124mf\u001B[39m\u001B[38;5;124m\"\u001B[39m\u001B[38;5;124mLength mismatch: Expected axis has \u001B[39m\u001B[38;5;132;01m{\u001B[39;00mold_len\u001B[38;5;132;01m}\u001B[39;00m\u001B[38;5;124m elements, new \u001B[39m\u001B[38;5;124m\"\u001B[39m\n\u001B[1;32m    100\u001B[0m         \u001B[38;5;124mf\u001B[39m\u001B[38;5;124m\"\u001B[39m\u001B[38;5;124mvalues have \u001B[39m\u001B[38;5;132;01m{\u001B[39;00mnew_len\u001B[38;5;132;01m}\u001B[39;00m\u001B[38;5;124m elements\u001B[39m\u001B[38;5;124m\"\u001B[39m\n\u001B[1;32m    101\u001B[0m     )\n",
      "\u001B[0;31mValueError\u001B[0m: Length mismatch: Expected axis has 2 elements, new values have 6 elements"
     ]
    }
   ],
   "execution_count": 21
  },
  {
   "metadata": {},
   "cell_type": "code",
   "outputs": [],
   "execution_count": null,
   "source": "",
   "id": "79e12d9ae01d75bc"
  }
 ],
 "metadata": {
  "kernelspec": {
   "display_name": "Python 3",
   "language": "python",
   "name": "python3"
  },
  "language_info": {
   "codemirror_mode": {
    "name": "ipython",
    "version": 2
   },
   "file_extension": ".py",
   "mimetype": "text/x-python",
   "name": "python",
   "nbconvert_exporter": "python",
   "pygments_lexer": "ipython2",
   "version": "2.7.6"
  }
 },
 "nbformat": 4,
 "nbformat_minor": 5
}
