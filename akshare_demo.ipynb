{
 "cells": [
  {
   "cell_type": "code",
   "id": "initial_id",
   "metadata": {
    "collapsed": true,
    "ExecuteTime": {
     "end_time": "2024-10-23T02:55:52.214713Z",
     "start_time": "2024-10-23T02:55:50.988073Z"
    }
   },
   "source": "import akshare as ak",
   "outputs": [],
   "execution_count": 1
  },
  {
   "metadata": {
    "ExecuteTime": {
     "end_time": "2024-10-23T02:55:56.239941Z",
     "start_time": "2024-10-23T02:55:53.851184Z"
    }
   },
   "cell_type": "code",
   "source": "stock_zh_a_spot_em_df = ak.stock_zh_a_spot_em()",
   "id": "3e37698739ef28a1",
   "outputs": [],
   "execution_count": 2
  },
  {
   "metadata": {
    "ExecuteTime": {
     "end_time": "2024-10-23T02:55:59.613987Z",
     "start_time": "2024-10-23T02:55:59.594795Z"
    }
   },
   "cell_type": "code",
   "source": "print(stock_zh_a_spot_em_df)",
   "id": "d6345eb0ac116443",
   "outputs": [
    {
     "name": "stdout",
     "output_type": "stream",
     "text": [
      "        序号      代码    名称    最新价    涨跌幅   涨跌额        成交量           成交额     振幅  \\\n",
      "0        1  873169  七丰精工  13.13  30.00  3.03   130823.0  1.598440e+08  34.16   \n",
      "1        2  831906  舜宇精工  21.19  30.00  4.89    41345.0  8.647653e+07   7.30   \n",
      "2        3  833509  同惠电子  16.45  23.22  3.10    68601.0  9.817894e+07  31.46   \n",
      "3        4  833454  同心传动  17.77  21.55  3.15   190744.0  3.356993e+08  37.07   \n",
      "4        5  300063  天龙集团  10.54  20.05  1.76  1736917.0  1.821277e+09   8.77   \n",
      "...    ...     ...   ...    ...    ...   ...        ...           ...    ...   \n",
      "5649  5650  833075   柏星龙  18.90  -9.61 -2.01    78531.0  1.469509e+08  10.95   \n",
      "5650  5651  002693  双成药业  28.12  -9.99 -3.12   255749.0  7.198029e+08   2.43   \n",
      "5651  5652  002355  兴民智通   7.28 -10.01 -0.81  1073493.0  7.901406e+08   9.52   \n",
      "5652  5653  836433  大唐药业   6.90 -10.04 -0.77   202019.0  1.400435e+08   9.65   \n",
      "5653  5654  833230  欧康医药  19.65 -11.69 -2.60    59855.0  1.167391e+08  10.83   \n",
      "\n",
      "         最高  ...    量比    换手率  市盈率-动态    市净率           总市值          流通市值  \\\n",
      "0     13.13  ...  3.90  25.91  107.28   3.49  1.073317e+09  6.628581e+08   \n",
      "1     21.19  ...  2.21  12.46   84.99   2.53  1.376714e+09  7.031525e+08   \n",
      "2     17.00  ...  1.97   8.32   70.58   8.27  2.662526e+09  1.356276e+09   \n",
      "3     19.00  ...  5.83  32.36  106.26   6.14  1.867627e+09  1.047410e+09   \n",
      "4     10.54  ...  1.95  27.78  125.41   5.02  7.994876e+09  6.590127e+09   \n",
      "...     ...  ...   ...    ...     ...    ...           ...           ...   \n",
      "5649  20.09  ...  3.53  31.89   22.61   3.11  1.225004e+09  4.653889e+08   \n",
      "5650  28.88  ...  1.43   6.22 -344.06  25.64  1.166108e+10  1.156806e+10   \n",
      "5651   8.05  ...  2.99  17.37  355.10   4.21  4.517753e+09  4.500253e+09   \n",
      "5652   7.28  ...  2.41  11.94  171.74   3.73  1.765846e+09  1.167016e+09   \n",
      "5653  20.74  ...  2.15  17.88   53.66   3.78  1.486157e+09  6.579423e+08   \n",
      "\n",
      "        涨速  5分钟涨跌  60日涨跌幅  年初至今涨跌幅  \n",
      "0     0.00   0.00  118.11    35.50  \n",
      "1     0.00   0.00   87.69     2.17  \n",
      "2     5.45  11.37   76.88    40.24  \n",
      "3     0.40  -1.71  118.30   104.25  \n",
      "4     0.00   0.00  179.58    51.22  \n",
      "...    ...    ...     ...      ...  \n",
      "5649  0.37  -0.05   60.31    22.41  \n",
      "5650  0.00   0.00  555.48   274.43  \n",
      "5651  0.00   0.00   39.73    34.57  \n",
      "5652  0.00  -0.58   72.50    16.55  \n",
      "5653 -0.05  -1.70  108.16    39.86  \n",
      "\n",
      "[5654 rows x 23 columns]\n"
     ]
    }
   ],
   "execution_count": 3
  },
  {
   "metadata": {},
   "cell_type": "code",
   "source": "len(stock_zh_a_spot_em_df)",
   "id": "fd263cd3548b7c22",
   "outputs": [],
   "execution_count": null
  },
  {
   "metadata": {},
   "cell_type": "code",
   "source": "type(stock_zh_a_spot_em_df)",
   "id": "fa044b9d37d30512",
   "outputs": [],
   "execution_count": null
  },
  {
   "metadata": {},
   "cell_type": "code",
   "source": "print(stock_zh_a_spot_em_df.columns)",
   "id": "ecb3138335f18428",
   "outputs": [],
   "execution_count": null
  },
  {
   "metadata": {},
   "cell_type": "code",
   "source": "print(stock_zh_a_spot_em_df['代码'])",
   "id": "5e57a36c776629fe",
   "outputs": [],
   "execution_count": null
  },
  {
   "metadata": {},
   "cell_type": "code",
   "source": "type(stock_zh_a_spot_em_df['代码'])",
   "id": "8c11dbb9745c8f91",
   "outputs": [],
   "execution_count": null
  },
  {
   "metadata": {},
   "cell_type": "code",
   "source": [
    "for code in stock_zh_a_spot_em_df['代码']:\n",
    "    print(code)"
   ],
   "id": "ea1c69b62214e223",
   "outputs": [],
   "execution_count": null
  },
  {
   "metadata": {
    "ExecuteTime": {
     "end_time": "2024-10-23T02:58:21.799902Z",
     "start_time": "2024-10-23T02:57:45.046935Z"
    }
   },
   "cell_type": "code",
   "source": "stock_zh_a_hist_df = ak.stock_zh_a_hist(symbol=\"600519\", period=\"daily\", start_date=\"20240101\", end_date='20241021', adjust=\"\")",
   "id": "7355191b6c16fa8c",
   "outputs": [],
   "execution_count": 4
  },
  {
   "metadata": {
    "ExecuteTime": {
     "end_time": "2024-10-23T02:58:24.845864Z",
     "start_time": "2024-10-23T02:58:24.832920Z"
    }
   },
   "cell_type": "code",
   "source": "print(stock_zh_a_hist_df)",
   "id": "290896cf929ecbc5",
   "outputs": [
    {
     "name": "stdout",
     "output_type": "stream",
     "text": [
      "             日期    股票代码       开盘       收盘       最高       最低    成交量  \\\n",
      "0    2024-01-02  600519  1715.00  1685.01  1718.19  1678.10  32156   \n",
      "1    2024-01-03  600519  1681.11  1694.00  1695.22  1676.33  20229   \n",
      "2    2024-01-04  600519  1693.00  1669.00  1693.00  1662.93  21551   \n",
      "3    2024-01-05  600519  1661.33  1663.36  1678.66  1652.11  20243   \n",
      "4    2024-01-08  600519  1661.00  1643.99  1662.00  1640.01  25586   \n",
      "..          ...     ...      ...      ...      ...      ...    ...   \n",
      "186  2024-10-15  600519  1599.00  1554.25  1600.99  1553.01  43571   \n",
      "187  2024-10-16  600519  1540.88  1522.50  1549.80  1510.00  46664   \n",
      "188  2024-10-17  600519  1537.00  1494.60  1537.66  1493.41  39460   \n",
      "189  2024-10-18  600519  1493.00  1541.00  1567.84  1478.96  68619   \n",
      "190  2024-10-21  600519  1541.21  1528.80  1549.97  1521.21  42008   \n",
      "\n",
      "              成交额    振幅   涨跌幅    涨跌额   换手率  \n",
      "0    5.440083e+09  2.32 -2.37 -40.99  0.26  \n",
      "1    3.411401e+09  1.12  0.53   8.99  0.16  \n",
      "2    3.603970e+09  1.78 -1.48 -25.00  0.17  \n",
      "3    3.373156e+09  1.59 -0.34  -5.64  0.16  \n",
      "4    4.211919e+09  1.32 -1.16 -19.37  0.20  \n",
      "..            ...   ...   ...    ...   ...  \n",
      "186  6.884142e+09  3.00 -2.98 -47.74  0.35  \n",
      "187  7.140170e+09  2.56 -2.04 -31.75  0.37  \n",
      "188  5.964779e+09  2.91 -1.83 -27.90  0.31  \n",
      "189  1.041804e+10  5.95  3.10  46.40  0.55  \n",
      "190  6.433918e+09  1.87 -0.79 -12.20  0.33  \n",
      "\n",
      "[191 rows x 12 columns]\n"
     ]
    }
   ],
   "execution_count": 5
  },
  {
   "metadata": {
    "ExecuteTime": {
     "end_time": "2024-10-23T03:35:34.877298Z",
     "start_time": "2024-10-23T03:35:34.866511Z"
    }
   },
   "cell_type": "code",
   "source": [
    "print(stock_zh_a_hist_df.iloc[1].values)\n",
    "# for row in stock_zh_a_hist_df.itertuples(name='Animal'):\n",
    "#     print(row)"
   ],
   "id": "bee789966ed6e08a",
   "outputs": [
    {
     "name": "stdout",
     "output_type": "stream",
     "text": [
      "[datetime.date(2024, 1, 3) '600519' np.float64(1681.11) np.float64(1694.0)\n",
      " np.float64(1695.22) np.float64(1676.33) np.int64(20229)\n",
      " np.float64(3411400667.0) np.float64(1.12) np.float64(0.53)\n",
      " np.float64(8.99) np.float64(0.16)]\n"
     ]
    }
   ],
   "execution_count": 24
  },
  {
   "metadata": {},
   "cell_type": "code",
   "source": "len(stock_zh_a_hist_df)",
   "id": "7340d74ba1b58f97",
   "outputs": [],
   "execution_count": null
  },
  {
   "metadata": {},
   "cell_type": "code",
   "source": "stock_zh_a_hist_df = ak.stock_zh_a_hist(symbol=\"600519\", period=\"daily\", start_date=\"19901219\", end_date='20241021', adjust=\"\")",
   "id": "7ff2a44c6fe07e2c",
   "outputs": [],
   "execution_count": null
  },
  {
   "metadata": {},
   "cell_type": "code",
   "source": "len(stock_zh_a_hist_df)",
   "id": "7303fa8cac1b41d6",
   "outputs": [],
   "execution_count": null
  },
  {
   "metadata": {},
   "cell_type": "code",
   "source": "type(stock_zh_a_hist_df)",
   "id": "e060b96fee401883",
   "outputs": [],
   "execution_count": null
  },
  {
   "metadata": {},
   "cell_type": "code",
   "source": "print(stock_zh_a_hist_df.head())",
   "id": "97bd155abf497f7",
   "outputs": [],
   "execution_count": null
  },
  {
   "metadata": {},
   "cell_type": "code",
   "source": "print(stock_zh_a_hist_df.tail())",
   "id": "85fc896001d5045",
   "outputs": [],
   "execution_count": null
  },
  {
   "metadata": {},
   "cell_type": "code",
   "source": "",
   "id": "a9ca42d9d6cfb87",
   "outputs": [],
   "execution_count": null
  }
 ],
 "metadata": {
  "kernelspec": {
   "display_name": "Python 3",
   "language": "python",
   "name": "python3"
  },
  "language_info": {
   "codemirror_mode": {
    "name": "ipython",
    "version": 2
   },
   "file_extension": ".py",
   "mimetype": "text/x-python",
   "name": "python",
   "nbconvert_exporter": "python",
   "pygments_lexer": "ipython2",
   "version": "2.7.6"
  }
 },
 "nbformat": 4,
 "nbformat_minor": 5
}
