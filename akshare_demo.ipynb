{
 "cells": [
  {
   "cell_type": "code",
   "id": "initial_id",
   "metadata": {
    "collapsed": true,
    "ExecuteTime": {
     "end_time": "2024-10-28T05:09:59.204749Z",
     "start_time": "2024-10-28T05:09:59.174822Z"
    }
   },
   "source": "import akshare as ak",
   "outputs": [],
   "execution_count": 16
  },
  {
   "metadata": {
    "ExecuteTime": {
     "end_time": "2024-10-28T04:03:08.992720Z",
     "start_time": "2024-10-28T04:03:07.914939Z"
    }
   },
   "cell_type": "code",
   "source": "stock_zh_a_spot_em_df = ak.stock_zh_a_spot_em()",
   "id": "3e37698739ef28a1",
   "outputs": [],
   "execution_count": 2
  },
  {
   "metadata": {
    "ExecuteTime": {
     "end_time": "2024-10-28T04:18:28.325982Z",
     "start_time": "2024-10-28T04:18:28.308052Z"
    }
   },
   "cell_type": "code",
   "source": [
    "# print(stock_zh_a_spot_em_df)\n",
    "for current_row in stock_zh_a_spot_em_df.itertuples(index=False):\n",
    "    if current_row[1] == '000003':\n",
    "        print(type(current_row[3]))\n",
    "        break"
   ],
   "id": "d6345eb0ac116443",
   "outputs": [
    {
     "name": "stdout",
     "output_type": "stream",
     "text": [
      "<class 'float'>\n"
     ]
    }
   ],
   "execution_count": 13
  },
  {
   "metadata": {},
   "cell_type": "code",
   "source": "len(stock_zh_a_spot_em_df)",
   "id": "fd263cd3548b7c22",
   "outputs": [],
   "execution_count": null
  },
  {
   "metadata": {},
   "cell_type": "code",
   "source": "type(stock_zh_a_spot_em_df)",
   "id": "fa044b9d37d30512",
   "outputs": [],
   "execution_count": null
  },
  {
   "metadata": {},
   "cell_type": "code",
   "source": "print(stock_zh_a_spot_em_df.columns)",
   "id": "ecb3138335f18428",
   "outputs": [],
   "execution_count": null
  },
  {
   "metadata": {},
   "cell_type": "code",
   "source": "print(stock_zh_a_spot_em_df['代码'])",
   "id": "5e57a36c776629fe",
   "outputs": [],
   "execution_count": null
  },
  {
   "metadata": {},
   "cell_type": "code",
   "source": "type(stock_zh_a_spot_em_df['代码'])",
   "id": "8c11dbb9745c8f91",
   "outputs": [],
   "execution_count": null
  },
  {
   "metadata": {},
   "cell_type": "code",
   "source": [
    "for code in stock_zh_a_spot_em_df['代码']:\n",
    "    print(code)"
   ],
   "id": "ea1c69b62214e223",
   "outputs": [],
   "execution_count": null
  },
  {
   "metadata": {
    "ExecuteTime": {
     "end_time": "2024-10-28T05:10:19.186812Z",
     "start_time": "2024-10-28T05:10:18.934625Z"
    }
   },
   "cell_type": "code",
   "source": "stock_zh_a_hist_df = ak.stock_zh_a_hist(symbol=\"600517\", period=\"daily\", start_date=\"20241028\", end_date='20241028', adjust=\"\")",
   "id": "7355191b6c16fa8c",
   "outputs": [],
   "execution_count": 18
  },
  {
   "metadata": {
    "ExecuteTime": {
     "end_time": "2024-10-28T05:10:20.471415Z",
     "start_time": "2024-10-28T05:10:20.464046Z"
    }
   },
   "cell_type": "code",
   "source": "print(stock_zh_a_hist_df)",
   "id": "290896cf929ecbc5",
   "outputs": [
    {
     "name": "stdout",
     "output_type": "stream",
     "text": [
      "           日期    股票代码    开盘    收盘    最高   最低     成交量          成交额   振幅  涨跌幅  \\\n",
      "0  2024-10-28  600517  5.34  5.42  5.46  5.3  265191  143207789.0  3.0  1.5   \n",
      "\n",
      "    涨跌额   换手率  \n",
      "0  0.08  0.46  \n"
     ]
    }
   ],
   "execution_count": 19
  },
  {
   "metadata": {},
   "cell_type": "code",
   "source": [
    "print(stock_zh_a_hist_df.iloc[1].values)\n",
    "# for row in stock_zh_a_hist_df.itertuples(name='Animal'):\n",
    "#     print(row)"
   ],
   "id": "bee789966ed6e08a",
   "outputs": [],
   "execution_count": null
  },
  {
   "metadata": {},
   "cell_type": "code",
   "source": "len(stock_zh_a_hist_df)",
   "id": "7340d74ba1b58f97",
   "outputs": [],
   "execution_count": null
  },
  {
   "metadata": {},
   "cell_type": "code",
   "source": "stock_zh_a_hist_df = ak.stock_zh_a_hist(symbol=\"600519\", period=\"daily\", start_date=\"19901219\", end_date='20241021', adjust=\"\")",
   "id": "7ff2a44c6fe07e2c",
   "outputs": [],
   "execution_count": null
  },
  {
   "metadata": {},
   "cell_type": "code",
   "source": "len(stock_zh_a_hist_df)",
   "id": "7303fa8cac1b41d6",
   "outputs": [],
   "execution_count": null
  },
  {
   "metadata": {},
   "cell_type": "code",
   "source": "type(stock_zh_a_hist_df)",
   "id": "e060b96fee401883",
   "outputs": [],
   "execution_count": null
  },
  {
   "metadata": {},
   "cell_type": "code",
   "source": "print(stock_zh_a_hist_df.head())",
   "id": "97bd155abf497f7",
   "outputs": [],
   "execution_count": null
  },
  {
   "metadata": {},
   "cell_type": "code",
   "source": "print(stock_zh_a_hist_df.tail())",
   "id": "85fc896001d5045",
   "outputs": [],
   "execution_count": null
  },
  {
   "metadata": {},
   "cell_type": "code",
   "source": "",
   "id": "a9ca42d9d6cfb87",
   "outputs": [],
   "execution_count": null
  }
 ],
 "metadata": {
  "kernelspec": {
   "display_name": "Python 3",
   "language": "python",
   "name": "python3"
  },
  "language_info": {
   "codemirror_mode": {
    "name": "ipython",
    "version": 2
   },
   "file_extension": ".py",
   "mimetype": "text/x-python",
   "name": "python",
   "nbconvert_exporter": "python",
   "pygments_lexer": "ipython2",
   "version": "2.7.6"
  }
 },
 "nbformat": 4,
 "nbformat_minor": 5
}
