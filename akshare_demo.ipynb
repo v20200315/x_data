{
 "cells": [
  {
   "cell_type": "code",
   "id": "initial_id",
   "metadata": {
    "collapsed": true,
    "ExecuteTime": {
     "end_time": "2024-11-04T00:50:32.848311Z",
     "start_time": "2024-11-04T00:50:31.475408Z"
    }
   },
   "source": "import akshare as ak",
   "outputs": [],
   "execution_count": 1
  },
  {
   "metadata": {
    "ExecuteTime": {
     "end_time": "2024-11-04T00:50:46.386051Z",
     "start_time": "2024-11-04T00:50:45.552505Z"
    }
   },
   "cell_type": "code",
   "source": [
    "# 实时行情数据-东财\n",
    "stock_zh_a_spot_em_df = ak.stock_zh_a_spot_em()"
   ],
   "id": "3e37698739ef28a1",
   "outputs": [],
   "execution_count": 3
  },
  {
   "metadata": {
    "ExecuteTime": {
     "end_time": "2024-11-04T00:50:47.985814Z",
     "start_time": "2024-11-04T00:50:47.967278Z"
    }
   },
   "cell_type": "code",
   "source": "print(stock_zh_a_spot_em_df)",
   "id": "3a49bbc3de1538e7",
   "outputs": [
    {
     "name": "stdout",
     "output_type": "stream",
     "text": [
      "        序号      代码     名称  最新价  涨跌幅  涨跌额  成交量  成交额  振幅  最高  ...  量比  换手率  \\\n",
      "0        1  920118   太湖远大  NaN  NaN  NaN  NaN  NaN NaN NaN  ... NaN  0.0   \n",
      "1        2  920111   聚星科技  NaN  NaN  NaN  NaN  NaN NaN NaN  ... NaN  0.0   \n",
      "2        3  920099   瑞华技术  NaN  NaN  NaN  NaN  NaN NaN NaN  ... NaN  0.0   \n",
      "3        4  920088   科力股份  NaN  NaN  NaN  NaN  NaN NaN NaN  ... NaN  0.0   \n",
      "4        5  920066    科拜尔  NaN  NaN  NaN  NaN  NaN NaN NaN  ... NaN  0.0   \n",
      "...    ...     ...    ...  ...  ...  ...  ...  ...  ..  ..  ...  ..  ...   \n",
      "5652  5653  000005   ST星源  NaN  NaN  NaN  NaN  NaN NaN NaN  ... NaN  0.0   \n",
      "5653  5654  000004   国华网安  NaN  NaN  NaN  NaN  NaN NaN NaN  ... NaN  0.0   \n",
      "5654  5655  000003  PT金田A  NaN  NaN  NaN  NaN  NaN NaN NaN  ... NaN  0.0   \n",
      "5655  5656  000002  万  科Ａ  NaN  NaN  NaN  NaN  NaN NaN NaN  ... NaN  0.0   \n",
      "5656  5657  000001   平安银行  NaN  NaN  NaN  NaN  NaN NaN NaN  ... NaN  0.0   \n",
      "\n",
      "      市盈率-动态    市净率           总市值          流通市值  涨速  5分钟涨跌  60日涨跌幅  年初至今涨跌幅  \n",
      "0      20.59   2.24  1.272400e+09  3.448750e+08 NaN    NaN   47.06    47.06  \n",
      "1       7.10   1.29  6.906250e+08           NaN NaN    NaN    0.00     0.00  \n",
      "2      25.30   3.32  2.617776e+09  5.435690e+08 NaN    NaN   75.74    75.74  \n",
      "3      48.84   3.64  2.208808e+09  5.188995e+08 NaN    NaN  255.33   255.33  \n",
      "4      42.32   4.91  1.760326e+09  4.894458e+08 NaN    NaN  205.63   205.63  \n",
      "...      ...    ...           ...           ...  ..    ...     ...      ...  \n",
      "5652     NaN    NaN           NaN           NaN NaN    NaN    0.00   -22.43  \n",
      "5653  -54.12  16.18  2.585387e+09  2.466406e+09 NaN    NaN   59.17    21.08  \n",
      "5654     NaN    NaN           NaN           NaN NaN    NaN    0.00     0.00  \n",
      "5655   -4.54   0.46  1.086888e+11  8.852129e+10 NaN    NaN   32.03   -12.91  \n",
      "5656    4.19   0.53  2.218096e+11  2.218062e+11 NaN    NaN   14.07    35.59  \n",
      "\n",
      "[5657 rows x 23 columns]\n"
     ]
    }
   ],
   "execution_count": 4
  },
  {
   "metadata": {
    "ExecuteTime": {
     "end_time": "2024-11-04T00:53:57.552416Z",
     "start_time": "2024-11-04T00:53:54.152590Z"
    }
   },
   "cell_type": "code",
   "source": [
    "# 历史行情数据-前复权\n",
    "\n",
    "stock_zh_a_hist_df = ak.stock_zh_a_hist(symbol=\"600519\", period=\"daily\", start_date=\"20241020\", end_date='20241031', adjust=\"qfq\")\n",
    "print(stock_zh_a_hist_df)"
   ],
   "id": "e5f262b20c8b092d",
   "outputs": [
    {
     "name": "stdout",
     "output_type": "stream",
     "text": [
      "           日期    股票代码       开盘       收盘       最高       最低    成交量  \\\n",
      "0  2024-10-21  600519  1541.21  1528.80  1549.97  1521.21  42008   \n",
      "1  2024-10-22  600519  1526.56  1543.00  1560.18  1524.20  36269   \n",
      "2  2024-10-23  600519  1544.11  1567.50  1576.95  1532.00  40088   \n",
      "3  2024-10-24  600519  1561.00  1552.20  1575.00  1545.01  23923   \n",
      "4  2024-10-25  600519  1547.00  1558.85  1574.79  1546.01  27745   \n",
      "5  2024-10-28  600519  1560.00  1565.00  1565.00  1522.23  39121   \n",
      "6  2024-10-29  600519  1560.00  1531.62  1580.00  1530.00  41166   \n",
      "7  2024-10-30  600519  1525.00  1532.00  1551.19  1523.41  32006   \n",
      "8  2024-10-31  600519  1532.15  1527.79  1540.00  1520.00  29957   \n",
      "\n",
      "            成交额    振幅   涨跌幅    涨跌额   换手率  \n",
      "0  6.433918e+09  1.87 -0.79 -12.20  0.33  \n",
      "1  5.607826e+09  2.35  0.93  14.20  0.29  \n",
      "2  6.259600e+09  2.91  1.59  24.50  0.32  \n",
      "3  3.723973e+09  1.91 -0.98 -15.30  0.19  \n",
      "4  4.328271e+09  1.85  0.43   6.65  0.22  \n",
      "5  6.064454e+09  2.74  0.39   6.15  0.31  \n",
      "6  6.368105e+09  3.19 -2.13 -33.38  0.33  \n",
      "7  4.913176e+09  1.81  0.02   0.38  0.25  \n",
      "8  4.575545e+09  1.31 -0.27  -4.21  0.24  \n"
     ]
    }
   ],
   "execution_count": 5
  },
  {
   "metadata": {},
   "cell_type": "markdown",
   "source": "#### ------",
   "id": "241e08519efd2e72"
  },
  {
   "metadata": {},
   "cell_type": "code",
   "source": [
    "# print(stock_zh_a_spot_em_df)\n",
    "for current_row in stock_zh_a_spot_em_df.itertuples(index=False):\n",
    "    if current_row[1] == '600519':\n",
    "        print(current_row)\n",
    "        break"
   ],
   "id": "d6345eb0ac116443",
   "outputs": [],
   "execution_count": null
  },
  {
   "metadata": {},
   "cell_type": "code",
   "source": "len(stock_zh_a_spot_em_df)",
   "id": "fd263cd3548b7c22",
   "outputs": [],
   "execution_count": null
  },
  {
   "metadata": {},
   "cell_type": "code",
   "source": "type(stock_zh_a_spot_em_df)",
   "id": "fa044b9d37d30512",
   "outputs": [],
   "execution_count": null
  },
  {
   "metadata": {},
   "cell_type": "code",
   "source": "print(stock_zh_a_spot_em_df.columns)",
   "id": "ecb3138335f18428",
   "outputs": [],
   "execution_count": null
  },
  {
   "metadata": {},
   "cell_type": "code",
   "source": "print(stock_zh_a_spot_em_df['代码'])",
   "id": "5e57a36c776629fe",
   "outputs": [],
   "execution_count": null
  },
  {
   "metadata": {},
   "cell_type": "code",
   "source": "type(stock_zh_a_spot_em_df['代码'])",
   "id": "8c11dbb9745c8f91",
   "outputs": [],
   "execution_count": null
  },
  {
   "metadata": {},
   "cell_type": "code",
   "source": [
    "for code in stock_zh_a_spot_em_df['代码']:\n",
    "    print(code)"
   ],
   "id": "ea1c69b62214e223",
   "outputs": [],
   "execution_count": null
  },
  {
   "metadata": {},
   "cell_type": "code",
   "source": [
    "stock_zh_a_hist_df = ak.stock_zh_a_hist(symbol=\"600517\", period=\"daily\", start_date=\"20241028\", end_date='20241028',\n",
    "                                        adjust=\"\")"
   ],
   "id": "7355191b6c16fa8c",
   "outputs": [],
   "execution_count": null
  },
  {
   "metadata": {},
   "cell_type": "code",
   "source": "print(stock_zh_a_hist_df)",
   "id": "290896cf929ecbc5",
   "outputs": [],
   "execution_count": null
  },
  {
   "metadata": {},
   "cell_type": "code",
   "source": [
    "print(stock_zh_a_hist_df.iloc[1].values)\n",
    "# for row in stock_zh_a_hist_df.itertuples(name='Animal'):\n",
    "#     print(row)"
   ],
   "id": "bee789966ed6e08a",
   "outputs": [],
   "execution_count": null
  },
  {
   "metadata": {},
   "cell_type": "code",
   "source": "len(stock_zh_a_hist_df)",
   "id": "7340d74ba1b58f97",
   "outputs": [],
   "execution_count": null
  },
  {
   "metadata": {},
   "cell_type": "code",
   "source": [
    "stock_zh_a_hist_df = ak.stock_zh_a_hist(symbol=\"600519\", period=\"daily\", start_date=\"19901219\", end_date='20241021',\n",
    "                                        adjust=\"\")"
   ],
   "id": "7ff2a44c6fe07e2c",
   "outputs": [],
   "execution_count": null
  },
  {
   "metadata": {},
   "cell_type": "code",
   "source": "len(stock_zh_a_hist_df)",
   "id": "7303fa8cac1b41d6",
   "outputs": [],
   "execution_count": null
  },
  {
   "metadata": {},
   "cell_type": "code",
   "source": "type(stock_zh_a_hist_df)",
   "id": "e060b96fee401883",
   "outputs": [],
   "execution_count": null
  },
  {
   "metadata": {},
   "cell_type": "code",
   "source": "print(stock_zh_a_hist_df.head())",
   "id": "97bd155abf497f7",
   "outputs": [],
   "execution_count": null
  },
  {
   "metadata": {},
   "cell_type": "code",
   "source": "print(stock_zh_a_hist_df.tail())",
   "id": "85fc896001d5045",
   "outputs": [],
   "execution_count": null
  },
  {
   "metadata": {},
   "cell_type": "code",
   "source": "",
   "id": "a9ca42d9d6cfb87",
   "outputs": [],
   "execution_count": null
  }
 ],
 "metadata": {
  "kernelspec": {
   "display_name": "Python 3",
   "language": "python",
   "name": "python3"
  },
  "language_info": {
   "codemirror_mode": {
    "name": "ipython",
    "version": 2
   },
   "file_extension": ".py",
   "mimetype": "text/x-python",
   "name": "python",
   "nbconvert_exporter": "python",
   "pygments_lexer": "ipython2",
   "version": "2.7.6"
  }
 },
 "nbformat": 4,
 "nbformat_minor": 5
}
