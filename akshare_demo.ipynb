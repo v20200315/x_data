{
 "cells": [
  {
   "cell_type": "code",
   "id": "initial_id",
   "metadata": {
    "collapsed": true,
    "ExecuteTime": {
     "end_time": "2024-10-29T13:36:25.082096Z",
     "start_time": "2024-10-29T13:36:23.212558Z"
    }
   },
   "source": "import akshare as ak",
   "outputs": [],
   "execution_count": 1
  },
  {
   "metadata": {
    "ExecuteTime": {
     "end_time": "2024-10-29T13:36:43.253584Z",
     "start_time": "2024-10-29T13:36:42.258017Z"
    }
   },
   "cell_type": "code",
   "source": "stock_zh_a_spot_em_df = ak.stock_zh_a_spot_em()",
   "id": "3e37698739ef28a1",
   "outputs": [],
   "execution_count": 2
  },
  {
   "metadata": {
    "ExecuteTime": {
     "end_time": "2024-10-29T13:37:04.572217Z",
     "start_time": "2024-10-29T13:37:04.554235Z"
    }
   },
   "cell_type": "code",
   "source": [
    "# print(stock_zh_a_spot_em_df)\n",
    "for current_row in stock_zh_a_spot_em_df.itertuples(index=False):\n",
    "    if current_row[1] == '600519':\n",
    "        print(current_row)\n",
    "        break"
   ],
   "id": "d6345eb0ac116443",
   "outputs": [
    {
     "name": "stdout",
     "output_type": "stream",
     "text": [
      "Pandas(序号=2592, 代码='600519', 名称='贵州茅台', 最新价=1531.62, 涨跌幅=-2.13, 涨跌额=-33.38, 成交量=41166.0, 成交额=6368105233.0, 振幅=3.19, 最高=1580.0, 最低=1530.0, 今开=1560.0, 昨收=1565.0, 量比=1.23, 换手率=0.33, _15=23.72, 市净率=8.09, 总市值=1924017674436.0, 流通市值=1924017674436.0, 涨速=0.0, _20=0.09, _21=7.69, 年初至今涨跌幅=-9.65)\n"
     ]
    }
   ],
   "execution_count": 3
  },
  {
   "metadata": {},
   "cell_type": "code",
   "source": "len(stock_zh_a_spot_em_df)",
   "id": "fd263cd3548b7c22",
   "outputs": [],
   "execution_count": null
  },
  {
   "metadata": {},
   "cell_type": "code",
   "source": "type(stock_zh_a_spot_em_df)",
   "id": "fa044b9d37d30512",
   "outputs": [],
   "execution_count": null
  },
  {
   "metadata": {},
   "cell_type": "code",
   "source": "print(stock_zh_a_spot_em_df.columns)",
   "id": "ecb3138335f18428",
   "outputs": [],
   "execution_count": null
  },
  {
   "metadata": {},
   "cell_type": "code",
   "source": "print(stock_zh_a_spot_em_df['代码'])",
   "id": "5e57a36c776629fe",
   "outputs": [],
   "execution_count": null
  },
  {
   "metadata": {},
   "cell_type": "code",
   "source": "type(stock_zh_a_spot_em_df['代码'])",
   "id": "8c11dbb9745c8f91",
   "outputs": [],
   "execution_count": null
  },
  {
   "metadata": {},
   "cell_type": "code",
   "source": [
    "for code in stock_zh_a_spot_em_df['代码']:\n",
    "    print(code)"
   ],
   "id": "ea1c69b62214e223",
   "outputs": [],
   "execution_count": null
  },
  {
   "metadata": {},
   "cell_type": "code",
   "source": "stock_zh_a_hist_df = ak.stock_zh_a_hist(symbol=\"600517\", period=\"daily\", start_date=\"20241028\", end_date='20241028', adjust=\"\")",
   "id": "7355191b6c16fa8c",
   "outputs": [],
   "execution_count": null
  },
  {
   "metadata": {},
   "cell_type": "code",
   "source": "print(stock_zh_a_hist_df)",
   "id": "290896cf929ecbc5",
   "outputs": [],
   "execution_count": null
  },
  {
   "metadata": {},
   "cell_type": "code",
   "source": [
    "print(stock_zh_a_hist_df.iloc[1].values)\n",
    "# for row in stock_zh_a_hist_df.itertuples(name='Animal'):\n",
    "#     print(row)"
   ],
   "id": "bee789966ed6e08a",
   "outputs": [],
   "execution_count": null
  },
  {
   "metadata": {},
   "cell_type": "code",
   "source": "len(stock_zh_a_hist_df)",
   "id": "7340d74ba1b58f97",
   "outputs": [],
   "execution_count": null
  },
  {
   "metadata": {},
   "cell_type": "code",
   "source": "stock_zh_a_hist_df = ak.stock_zh_a_hist(symbol=\"600519\", period=\"daily\", start_date=\"19901219\", end_date='20241021', adjust=\"\")",
   "id": "7ff2a44c6fe07e2c",
   "outputs": [],
   "execution_count": null
  },
  {
   "metadata": {},
   "cell_type": "code",
   "source": "len(stock_zh_a_hist_df)",
   "id": "7303fa8cac1b41d6",
   "outputs": [],
   "execution_count": null
  },
  {
   "metadata": {},
   "cell_type": "code",
   "source": "type(stock_zh_a_hist_df)",
   "id": "e060b96fee401883",
   "outputs": [],
   "execution_count": null
  },
  {
   "metadata": {},
   "cell_type": "code",
   "source": "print(stock_zh_a_hist_df.head())",
   "id": "97bd155abf497f7",
   "outputs": [],
   "execution_count": null
  },
  {
   "metadata": {},
   "cell_type": "code",
   "source": "print(stock_zh_a_hist_df.tail())",
   "id": "85fc896001d5045",
   "outputs": [],
   "execution_count": null
  },
  {
   "metadata": {},
   "cell_type": "code",
   "source": "",
   "id": "a9ca42d9d6cfb87",
   "outputs": [],
   "execution_count": null
  }
 ],
 "metadata": {
  "kernelspec": {
   "display_name": "Python 3",
   "language": "python",
   "name": "python3"
  },
  "language_info": {
   "codemirror_mode": {
    "name": "ipython",
    "version": 2
   },
   "file_extension": ".py",
   "mimetype": "text/x-python",
   "name": "python",
   "nbconvert_exporter": "python",
   "pygments_lexer": "ipython2",
   "version": "2.7.6"
  }
 },
 "nbformat": 4,
 "nbformat_minor": 5
}
